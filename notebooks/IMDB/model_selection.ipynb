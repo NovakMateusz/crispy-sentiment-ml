{
  "nbformat": 4,
  "nbformat_minor": 0,
  "metadata": {
    "colab": {
      "provenance": [],
      "authorship_tag": "ABX9TyMQZnuGAm5QuKxfan2odg0M",
      "include_colab_link": true
    },
    "kernelspec": {
      "name": "python3",
      "display_name": "Python 3"
    },
    "language_info": {
      "name": "python"
    }
  },
  "cells": [
    {
      "cell_type": "markdown",
      "metadata": {
        "id": "view-in-github",
        "colab_type": "text"
      },
      "source": [
        "<a href=\"https://colab.research.google.com/github/NovakMateusz/crispy-sentiment-ml/blob/master/notebooks/IMDB/model_selection.ipynb\" target=\"_parent\"><img src=\"https://colab.research.google.com/assets/colab-badge.svg\" alt=\"Open In Colab\"/></a>"
      ]
    },
    {
      "cell_type": "markdown",
      "metadata": {
        "id": "EFuQeTHGbCfN"
      },
      "source": [
        "\n",
        "# Model selection"
      ]
    },
    {
      "cell_type": "code",
      "execution_count": 2,
      "metadata": {
        "id": "QVn09bpfKYJN",
        "colab": {
          "base_uri": "https://localhost:8080/"
        },
        "outputId": "25f92576-2671-4d10-a784-9fb1311641a6"
      },
      "outputs": [
        {
          "output_type": "stream",
          "name": "stdout",
          "text": [
            "Looking in indexes: https://pypi.org/simple, https://us-python.pkg.dev/colab-wheels/public/simple/\n",
            "Requirement already satisfied: boto3 in /usr/local/lib/python3.8/dist-packages (1.26.82)\n",
            "Requirement already satisfied: s3transfer<0.7.0,>=0.6.0 in /usr/local/lib/python3.8/dist-packages (from boto3) (0.6.0)\n",
            "Requirement already satisfied: botocore<1.30.0,>=1.29.82 in /usr/local/lib/python3.8/dist-packages (from boto3) (1.29.82)\n",
            "Requirement already satisfied: jmespath<2.0.0,>=0.7.1 in /usr/local/lib/python3.8/dist-packages (from boto3) (1.0.1)\n",
            "Requirement already satisfied: python-dateutil<3.0.0,>=2.1 in /usr/local/lib/python3.8/dist-packages (from botocore<1.30.0,>=1.29.82->boto3) (2.8.2)\n",
            "Requirement already satisfied: urllib3<1.27,>=1.25.4 in /usr/local/lib/python3.8/dist-packages (from botocore<1.30.0,>=1.29.82->boto3) (1.26.14)\n",
            "Requirement already satisfied: six>=1.5 in /usr/local/lib/python3.8/dist-packages (from python-dateutil<3.0.0,>=2.1->botocore<1.30.0,>=1.29.82->boto3) (1.15.0)\n",
            "Looking in indexes: https://pypi.org/simple, https://us-python.pkg.dev/colab-wheels/public/simple/\n",
            "Requirement already satisfied: scikit-learn==1.2.1 in /usr/local/lib/python3.8/dist-packages (1.2.1)\n",
            "Requirement already satisfied: scipy>=1.3.2 in /usr/local/lib/python3.8/dist-packages (from scikit-learn==1.2.1) (1.7.3)\n",
            "Requirement already satisfied: joblib>=1.1.1 in /usr/local/lib/python3.8/dist-packages (from scikit-learn==1.2.1) (1.2.0)\n",
            "Requirement already satisfied: numpy>=1.17.3 in /usr/local/lib/python3.8/dist-packages (from scikit-learn==1.2.1) (1.22.4)\n",
            "Requirement already satisfied: threadpoolctl>=2.0.0 in /usr/local/lib/python3.8/dist-packages (from scikit-learn==1.2.1) (3.1.0)\n"
          ]
        }
      ],
      "source": [
        "!pip install boto3\n",
        "!pip install scikit-learn==1.2.1\n",
        "\n",
        "import datetime\n",
        "import pathlib\n",
        "import pickle\n",
        "import uuid\n",
        "import os\n",
        "\n",
        "import boto3\n",
        "from google.colab import drive\n",
        "import matplotlib.pyplot as plt\n",
        "import numpy as np\n",
        "import pandas as pd\n",
        "import seaborn as sns\n",
        "from sklearn.linear_model import LogisticRegression, SGDClassifier\n",
        "from sklearn.ensemble import RandomForestClassifier\n",
        "from sklearn.tree import DecisionTreeClassifier\n",
        "from sklearn.feature_extraction.text import CountVectorizer\n",
        "from sklearn.model_selection import train_test_split, cross_val_predict, GridSearchCV\n",
        "from sklearn.metrics import confusion_matrix, precision_score, recall_score, f1_score\n",
        "\n",
        "\n",
        "plt.rcParams[\"figure.figsize\"] = (16, 8)"
      ]
    },
    {
      "cell_type": "markdown",
      "metadata": {
        "id": "eLbZz_20cbA4"
      },
      "source": [
        "### Mounting Google Drive and setting up paths"
      ]
    },
    {
      "cell_type": "code",
      "execution_count": 3,
      "metadata": {
        "colab": {
          "base_uri": "https://localhost:8080/"
        },
        "id": "Xd9o0uiSRaO6",
        "outputId": "b4a2c3a2-20b6-44f0-a732-453e689fabef"
      },
      "outputs": [
        {
          "output_type": "stream",
          "name": "stdout",
          "text": [
            "Drive already mounted at /content/drive; to attempt to forcibly remount, call drive.mount(\"/content/drive\", force_remount=True).\n"
          ]
        }
      ],
      "source": [
        "drive.mount('/content/drive')\n",
        "\n",
        "COLAB_ROOT_DIR = pathlib.Path('.')\n",
        "DRIVE_ROOT_DIR = COLAB_ROOT_DIR / 'drive/MyDrive'\n",
        "PROJECT_ROOT_DIR = DRIVE_ROOT_DIR / 'bachelors_dissertation'\n",
        "\n",
        "DATA_DIR = PROJECT_ROOT_DIR / 'data' / 'clean' / 'IMDB'\n",
        "MODELS_DIR = PROJECT_ROOT_DIR / 'models'"
      ]
    },
    {
      "cell_type": "markdown",
      "metadata": {
        "id": "umTmhFffrEHj"
      },
      "source": [
        "### Constans"
      ]
    },
    {
      "cell_type": "code",
      "execution_count": 4,
      "metadata": {
        "id": "wJquot6IrHOw"
      },
      "outputs": [],
      "source": [
        "LABELS = {\n",
        "    0: 'Nagative',\n",
        "    1: 'Positive'\n",
        "}\n",
        "\n",
        "BUCKET_NAME = 'sentiment-analysis'"
      ]
    },
    {
      "cell_type": "markdown",
      "source": [
        "### Load the dataset"
      ],
      "metadata": {
        "id": "i-Yr43b3Lgva"
      }
    },
    {
      "cell_type": "code",
      "source": [
        "dataframe = pd.read_csv(DATA_DIR / 'IMDB_50K_clean.csv')"
      ],
      "metadata": {
        "id": "IKLQBjcyLYZv"
      },
      "execution_count": 5,
      "outputs": []
    },
    {
      "cell_type": "markdown",
      "source": [
        "### Split dataset to train and test sets"
      ],
      "metadata": {
        "id": "_ikGXRUnSwBQ"
      }
    },
    {
      "cell_type": "code",
      "execution_count": 6,
      "metadata": {
        "colab": {
          "base_uri": "https://localhost:8080/"
        },
        "id": "T_EfROLCfMp_",
        "outputId": "cbe7cf7b-55a6-4840-804f-30bb6adbe286"
      },
      "outputs": [
        {
          "output_type": "stream",
          "name": "stdout",
          "text": [
            "CPU times: user 16.1 s, sys: 196 ms, total: 16.3 s\n",
            "Wall time: 31.7 s\n"
          ]
        }
      ],
      "source": [
        "%%time\n",
        "\n",
        "train_set, test_set = train_test_split(dataframe, test_size=0.2, random_state=42)\n",
        "\n",
        "vectorizer = CountVectorizer(stop_words='english')\n",
        "\n",
        "train_set_vector = vectorizer.fit_transform(train_set['text'])\n",
        "test_set_vector = vectorizer.transform(test_set['text'])"
      ]
    },
    {
      "cell_type": "markdown",
      "source": [
        "### SGD Classifier"
      ],
      "metadata": {
        "id": "S05irQxWbUyc"
      }
    },
    {
      "cell_type": "code",
      "execution_count": 7,
      "metadata": {
        "colab": {
          "base_uri": "https://localhost:8080/",
          "height": 110
        },
        "id": "5IvuDuQC1qU6",
        "outputId": "2045db08-a281-442e-9adb-97aabb770e9e"
      },
      "outputs": [
        {
          "output_type": "stream",
          "name": "stdout",
          "text": [
            "CPU times: user 1.46 s, sys: 31.4 ms, total: 1.49 s\n",
            "Wall time: 4.42 s\n"
          ]
        },
        {
          "output_type": "execute_result",
          "data": {
            "text/plain": [
              "SGDClassifier()"
            ],
            "text/html": [
              "<style>#sk-container-id-1 {color: black;background-color: white;}#sk-container-id-1 pre{padding: 0;}#sk-container-id-1 div.sk-toggleable {background-color: white;}#sk-container-id-1 label.sk-toggleable__label {cursor: pointer;display: block;width: 100%;margin-bottom: 0;padding: 0.3em;box-sizing: border-box;text-align: center;}#sk-container-id-1 label.sk-toggleable__label-arrow:before {content: \"▸\";float: left;margin-right: 0.25em;color: #696969;}#sk-container-id-1 label.sk-toggleable__label-arrow:hover:before {color: black;}#sk-container-id-1 div.sk-estimator:hover label.sk-toggleable__label-arrow:before {color: black;}#sk-container-id-1 div.sk-toggleable__content {max-height: 0;max-width: 0;overflow: hidden;text-align: left;background-color: #f0f8ff;}#sk-container-id-1 div.sk-toggleable__content pre {margin: 0.2em;color: black;border-radius: 0.25em;background-color: #f0f8ff;}#sk-container-id-1 input.sk-toggleable__control:checked~div.sk-toggleable__content {max-height: 200px;max-width: 100%;overflow: auto;}#sk-container-id-1 input.sk-toggleable__control:checked~label.sk-toggleable__label-arrow:before {content: \"▾\";}#sk-container-id-1 div.sk-estimator input.sk-toggleable__control:checked~label.sk-toggleable__label {background-color: #d4ebff;}#sk-container-id-1 div.sk-label input.sk-toggleable__control:checked~label.sk-toggleable__label {background-color: #d4ebff;}#sk-container-id-1 input.sk-hidden--visually {border: 0;clip: rect(1px 1px 1px 1px);clip: rect(1px, 1px, 1px, 1px);height: 1px;margin: -1px;overflow: hidden;padding: 0;position: absolute;width: 1px;}#sk-container-id-1 div.sk-estimator {font-family: monospace;background-color: #f0f8ff;border: 1px dotted black;border-radius: 0.25em;box-sizing: border-box;margin-bottom: 0.5em;}#sk-container-id-1 div.sk-estimator:hover {background-color: #d4ebff;}#sk-container-id-1 div.sk-parallel-item::after {content: \"\";width: 100%;border-bottom: 1px solid gray;flex-grow: 1;}#sk-container-id-1 div.sk-label:hover label.sk-toggleable__label {background-color: #d4ebff;}#sk-container-id-1 div.sk-serial::before {content: \"\";position: absolute;border-left: 1px solid gray;box-sizing: border-box;top: 0;bottom: 0;left: 50%;z-index: 0;}#sk-container-id-1 div.sk-serial {display: flex;flex-direction: column;align-items: center;background-color: white;padding-right: 0.2em;padding-left: 0.2em;position: relative;}#sk-container-id-1 div.sk-item {position: relative;z-index: 1;}#sk-container-id-1 div.sk-parallel {display: flex;align-items: stretch;justify-content: center;background-color: white;position: relative;}#sk-container-id-1 div.sk-item::before, #sk-container-id-1 div.sk-parallel-item::before {content: \"\";position: absolute;border-left: 1px solid gray;box-sizing: border-box;top: 0;bottom: 0;left: 50%;z-index: -1;}#sk-container-id-1 div.sk-parallel-item {display: flex;flex-direction: column;z-index: 1;position: relative;background-color: white;}#sk-container-id-1 div.sk-parallel-item:first-child::after {align-self: flex-end;width: 50%;}#sk-container-id-1 div.sk-parallel-item:last-child::after {align-self: flex-start;width: 50%;}#sk-container-id-1 div.sk-parallel-item:only-child::after {width: 0;}#sk-container-id-1 div.sk-dashed-wrapped {border: 1px dashed gray;margin: 0 0.4em 0.5em 0.4em;box-sizing: border-box;padding-bottom: 0.4em;background-color: white;}#sk-container-id-1 div.sk-label label {font-family: monospace;font-weight: bold;display: inline-block;line-height: 1.2em;}#sk-container-id-1 div.sk-label-container {text-align: center;}#sk-container-id-1 div.sk-container {/* jupyter's `normalize.less` sets `[hidden] { display: none; }` but bootstrap.min.css set `[hidden] { display: none !important; }` so we also need the `!important` here to be able to override the default hidden behavior on the sphinx rendered scikit-learn.org. See: https://github.com/scikit-learn/scikit-learn/issues/21755 */display: inline-block !important;position: relative;}#sk-container-id-1 div.sk-text-repr-fallback {display: none;}</style><div id=\"sk-container-id-1\" class=\"sk-top-container\"><div class=\"sk-text-repr-fallback\"><pre>SGDClassifier()</pre><b>In a Jupyter environment, please rerun this cell to show the HTML representation or trust the notebook. <br />On GitHub, the HTML representation is unable to render, please try loading this page with nbviewer.org.</b></div><div class=\"sk-container\" hidden><div class=\"sk-item\"><div class=\"sk-estimator sk-toggleable\"><input class=\"sk-toggleable__control sk-hidden--visually\" id=\"sk-estimator-id-1\" type=\"checkbox\" checked><label for=\"sk-estimator-id-1\" class=\"sk-toggleable__label sk-toggleable__label-arrow\">SGDClassifier</label><div class=\"sk-toggleable__content\"><pre>SGDClassifier()</pre></div></div></div></div></div>"
            ]
          },
          "metadata": {},
          "execution_count": 7
        }
      ],
      "source": [
        "%%time\n",
        "sgd_model = SGDClassifier()\n",
        "sgd_model.fit(train_set_vector, train_set['label'])"
      ]
    },
    {
      "cell_type": "code",
      "source": [
        "train_labels_predictions = cross_val_predict(sgd_model, test_set_vector, test_set['label'], cv=3)\n",
        "\n",
        "print('precision:\\t%.3f' % precision_score(test_set['label'], train_labels_predictions))\n",
        "print('recall:\\t\\t%.3f' % recall_score(test_set['label'], train_labels_predictions))\n",
        "print('f1:\\t\\t%.3f' % f1_score(test_set['label'], train_labels_predictions))"
      ],
      "metadata": {
        "colab": {
          "base_uri": "https://localhost:8080/"
        },
        "id": "UvG-ZwMbezBU",
        "outputId": "9a6835d4-9687-407b-c8ea-d1477b87230d"
      },
      "execution_count": 8,
      "outputs": [
        {
          "output_type": "stream",
          "name": "stdout",
          "text": [
            "precision:\t0.840\n",
            "recall:\t\t0.840\n",
            "f1:\t\t0.840\n"
          ]
        }
      ]
    },
    {
      "cell_type": "code",
      "source": [
        "cm = confusion_matrix(test_set['label'], train_labels_predictions)\n",
        "sns.heatmap(cm/np.sum(cm), annot=True, fmt='.2%', cmap='Blues');"
      ],
      "metadata": {
        "colab": {
          "base_uri": "https://localhost:8080/",
          "height": 483
        },
        "id": "atAvt1ZafNGW",
        "outputId": "779c8ad8-e093-4a55-fcd0-e1069f250bd3"
      },
      "execution_count": 9,
      "outputs": [
        {
          "output_type": "display_data",
          "data": {
            "text/plain": [
              "<Figure size 1152x576 with 2 Axes>"
            ],
            "image/png": "[encoded data removed]"
          },
          "metadata": {
            "needs_background": "light"
          }
        }
      ]
    },
    {
      "cell_type": "markdown",
      "source": [
        "### Logistic Regression Classifier"
      ],
      "metadata": {
        "id": "eNuvITmBblwi"
      }
    },
    {
      "cell_type": "code",
      "execution_count": 10,
      "metadata": {
        "colab": {
          "base_uri": "https://localhost:8080/",
          "height": 110
        },
        "id": "exGvDc7EUGLf",
        "outputId": "a13f88b9-e7e2-4fd6-a09b-03a1b91c39fb"
      },
      "outputs": [
        {
          "output_type": "stream",
          "name": "stdout",
          "text": [
            "CPU times: user 23.2 s, sys: 24.1 s, total: 47.4 s\n",
            "Wall time: 44.5 s\n"
          ]
        },
        {
          "output_type": "execute_result",
          "data": {
            "text/plain": [
              "LogisticRegression(max_iter=1000)"
            ],
            "text/html": [
              "<style>#sk-container-id-2 {color: black;background-color: white;}#sk-container-id-2 pre{padding: 0;}#sk-container-id-2 div.sk-toggleable {background-color: white;}#sk-container-id-2 label.sk-toggleable__label {cursor: pointer;display: block;width: 100%;margin-bottom: 0;padding: 0.3em;box-sizing: border-box;text-align: center;}#sk-container-id-2 label.sk-toggleable__label-arrow:before {content: \"▸\";float: left;margin-right: 0.25em;color: #696969;}#sk-container-id-2 label.sk-toggleable__label-arrow:hover:before {color: black;}#sk-container-id-2 div.sk-estimator:hover label.sk-toggleable__label-arrow:before {color: black;}#sk-container-id-2 div.sk-toggleable__content {max-height: 0;max-width: 0;overflow: hidden;text-align: left;background-color: #f0f8ff;}#sk-container-id-2 div.sk-toggleable__content pre {margin: 0.2em;color: black;border-radius: 0.25em;background-color: #f0f8ff;}#sk-container-id-2 input.sk-toggleable__control:checked~div.sk-toggleable__content {max-height: 200px;max-width: 100%;overflow: auto;}#sk-container-id-2 input.sk-toggleable__control:checked~label.sk-toggleable__label-arrow:before {content: \"▾\";}#sk-container-id-2 div.sk-estimator input.sk-toggleable__control:checked~label.sk-toggleable__label {background-color: #d4ebff;}#sk-container-id-2 div.sk-label input.sk-toggleable__control:checked~label.sk-toggleable__label {background-color: #d4ebff;}#sk-container-id-2 input.sk-hidden--visually {border: 0;clip: rect(1px 1px 1px 1px);clip: rect(1px, 1px, 1px, 1px);height: 1px;margin: -1px;overflow: hidden;padding: 0;position: absolute;width: 1px;}#sk-container-id-2 div.sk-estimator {font-family: monospace;background-color: #f0f8ff;border: 1px dotted black;border-radius: 0.25em;box-sizing: border-box;margin-bottom: 0.5em;}#sk-container-id-2 div.sk-estimator:hover {background-color: #d4ebff;}#sk-container-id-2 div.sk-parallel-item::after {content: \"\";width: 100%;border-bottom: 1px solid gray;flex-grow: 1;}#sk-container-id-2 div.sk-label:hover label.sk-toggleable__label {background-color: #d4ebff;}#sk-container-id-2 div.sk-serial::before {content: \"\";position: absolute;border-left: 1px solid gray;box-sizing: border-box;top: 0;bottom: 0;left: 50%;z-index: 0;}#sk-container-id-2 div.sk-serial {display: flex;flex-direction: column;align-items: center;background-color: white;padding-right: 0.2em;padding-left: 0.2em;position: relative;}#sk-container-id-2 div.sk-item {position: relative;z-index: 1;}#sk-container-id-2 div.sk-parallel {display: flex;align-items: stretch;justify-content: center;background-color: white;position: relative;}#sk-container-id-2 div.sk-item::before, #sk-container-id-2 div.sk-parallel-item::before {content: \"\";position: absolute;border-left: 1px solid gray;box-sizing: border-box;top: 0;bottom: 0;left: 50%;z-index: -1;}#sk-container-id-2 div.sk-parallel-item {display: flex;flex-direction: column;z-index: 1;position: relative;background-color: white;}#sk-container-id-2 div.sk-parallel-item:first-child::after {align-self: flex-end;width: 50%;}#sk-container-id-2 div.sk-parallel-item:last-child::after {align-self: flex-start;width: 50%;}#sk-container-id-2 div.sk-parallel-item:only-child::after {width: 0;}#sk-container-id-2 div.sk-dashed-wrapped {border: 1px dashed gray;margin: 0 0.4em 0.5em 0.4em;box-sizing: border-box;padding-bottom: 0.4em;background-color: white;}#sk-container-id-2 div.sk-label label {font-family: monospace;font-weight: bold;display: inline-block;line-height: 1.2em;}#sk-container-id-2 div.sk-label-container {text-align: center;}#sk-container-id-2 div.sk-container {/* jupyter's `normalize.less` sets `[hidden] { display: none; }` but bootstrap.min.css set `[hidden] { display: none !important; }` so we also need the `!important` here to be able to override the default hidden behavior on the sphinx rendered scikit-learn.org. See: https://github.com/scikit-learn/scikit-learn/issues/21755 */display: inline-block !important;position: relative;}#sk-container-id-2 div.sk-text-repr-fallback {display: none;}</style><div id=\"sk-container-id-2\" class=\"sk-top-container\"><div class=\"sk-text-repr-fallback\"><pre>LogisticRegression(max_iter=1000)</pre><b>In a Jupyter environment, please rerun this cell to show the HTML representation or trust the notebook. <br />On GitHub, the HTML representation is unable to render, please try loading this page with nbviewer.org.</b></div><div class=\"sk-container\" hidden><div class=\"sk-item\"><div class=\"sk-estimator sk-toggleable\"><input class=\"sk-toggleable__control sk-hidden--visually\" id=\"sk-estimator-id-2\" type=\"checkbox\" checked><label for=\"sk-estimator-id-2\" class=\"sk-toggleable__label sk-toggleable__label-arrow\">LogisticRegression</label><div class=\"sk-toggleable__content\"><pre>LogisticRegression(max_iter=1000)</pre></div></div></div></div></div>"
            ]
          },
          "metadata": {},
          "execution_count": 10
        }
      ],
      "source": [
        "%%time\n",
        "\n",
        "lr_model = LogisticRegression(max_iter=1000)\n",
        "lr_model.fit(train_set_vector, train_set['label'])"
      ]
    },
    {
      "cell_type": "code",
      "source": [
        "train_labels_predictions = cross_val_predict(lr_model, test_set_vector, test_set['label'], cv=3)\n",
        "\n",
        "print('precision:\\t%.3f' % precision_score(test_set['label'], train_labels_predictions))\n",
        "print('recall:\\t\\t%.3f' % recall_score(test_set['label'], train_labels_predictions))\n",
        "print('f1:\\t\\t%.3f' % f1_score(test_set['label'], train_labels_predictions))"
      ],
      "metadata": {
        "colab": {
          "base_uri": "https://localhost:8080/"
        },
        "id": "V0wGZJMKjBvy",
        "outputId": "499d8d25-d3a0-428b-b0c5-2ecbd52b6986"
      },
      "execution_count": 11,
      "outputs": [
        {
          "output_type": "stream",
          "name": "stdout",
          "text": [
            "precision:\t0.848\n",
            "recall:\t\t0.867\n",
            "f1:\t\t0.858\n"
          ]
        }
      ]
    },
    {
      "cell_type": "code",
      "source": [
        "cm = confusion_matrix(test_set['label'], train_labels_predictions)\n",
        "sns.heatmap(cm/np.sum(cm), annot=True, fmt='.2%', cmap='Blues');"
      ],
      "metadata": {
        "colab": {
          "base_uri": "https://localhost:8080/",
          "height": 483
        },
        "id": "BZ3Fk1J9mqDU",
        "outputId": "583e4d32-7cbb-4e63-97fa-77e58d04f97a"
      },
      "execution_count": 12,
      "outputs": [
        {
          "output_type": "display_data",
          "data": {
            "text/plain": [
              "<Figure size 1152x576 with 2 Axes>"
            ],
            "image/png": "[encoded data removed]"
          },
          "metadata": {
            "needs_background": "light"
          }
        }
      ]
    },
    {
      "cell_type": "markdown",
      "source": [
        "### Decision Tree Classifier"
      ],
      "metadata": {
        "id": "22LnCBeQbrBz"
      }
    },
    {
      "cell_type": "code",
      "source": [
        "%%time\n",
        "\n",
        "model = DecisionTreeClassifier()\n",
        "model.fit(train_set_vector, train_set['label'])"
      ],
      "metadata": {
        "colab": {
          "base_uri": "https://localhost:8080/",
          "height": 110
        },
        "id": "41TVV2WJba2R",
        "outputId": "e5092bda-d6d9-47f1-8148-c3c7a586c099"
      },
      "execution_count": 13,
      "outputs": [
        {
          "output_type": "stream",
          "name": "stdout",
          "text": [
            "CPU times: user 1min 36s, sys: 2.12 ms, total: 1min 36s\n",
            "Wall time: 1min 38s\n"
          ]
        },
        {
          "output_type": "execute_result",
          "data": {
            "text/plain": [
              "DecisionTreeClassifier()"
            ],
            "text/html": [
              "<style>#sk-container-id-3 {color: black;background-color: white;}#sk-container-id-3 pre{padding: 0;}#sk-container-id-3 div.sk-toggleable {background-color: white;}#sk-container-id-3 label.sk-toggleable__label {cursor: pointer;display: block;width: 100%;margin-bottom: 0;padding: 0.3em;box-sizing: border-box;text-align: center;}#sk-container-id-3 label.sk-toggleable__label-arrow:before {content: \"▸\";float: left;margin-right: 0.25em;color: #696969;}#sk-container-id-3 label.sk-toggleable__label-arrow:hover:before {color: black;}#sk-container-id-3 div.sk-estimator:hover label.sk-toggleable__label-arrow:before {color: black;}#sk-container-id-3 div.sk-toggleable__content {max-height: 0;max-width: 0;overflow: hidden;text-align: left;background-color: #f0f8ff;}#sk-container-id-3 div.sk-toggleable__content pre {margin: 0.2em;color: black;border-radius: 0.25em;background-color: #f0f8ff;}#sk-container-id-3 input.sk-toggleable__control:checked~div.sk-toggleable__content {max-height: 200px;max-width: 100%;overflow: auto;}#sk-container-id-3 input.sk-toggleable__control:checked~label.sk-toggleable__label-arrow:before {content: \"▾\";}#sk-container-id-3 div.sk-estimator input.sk-toggleable__control:checked~label.sk-toggleable__label {background-color: #d4ebff;}#sk-container-id-3 div.sk-label input.sk-toggleable__control:checked~label.sk-toggleable__label {background-color: #d4ebff;}#sk-container-id-3 input.sk-hidden--visually {border: 0;clip: rect(1px 1px 1px 1px);clip: rect(1px, 1px, 1px, 1px);height: 1px;margin: -1px;overflow: hidden;padding: 0;position: absolute;width: 1px;}#sk-container-id-3 div.sk-estimator {font-family: monospace;background-color: #f0f8ff;border: 1px dotted black;border-radius: 0.25em;box-sizing: border-box;margin-bottom: 0.5em;}#sk-container-id-3 div.sk-estimator:hover {background-color: #d4ebff;}#sk-container-id-3 div.sk-parallel-item::after {content: \"\";width: 100%;border-bottom: 1px solid gray;flex-grow: 1;}#sk-container-id-3 div.sk-label:hover label.sk-toggleable__label {background-color: #d4ebff;}#sk-container-id-3 div.sk-serial::before {content: \"\";position: absolute;border-left: 1px solid gray;box-sizing: border-box;top: 0;bottom: 0;left: 50%;z-index: 0;}#sk-container-id-3 div.sk-serial {display: flex;flex-direction: column;align-items: center;background-color: white;padding-right: 0.2em;padding-left: 0.2em;position: relative;}#sk-container-id-3 div.sk-item {position: relative;z-index: 1;}#sk-container-id-3 div.sk-parallel {display: flex;align-items: stretch;justify-content: center;background-color: white;position: relative;}#sk-container-id-3 div.sk-item::before, #sk-container-id-3 div.sk-parallel-item::before {content: \"\";position: absolute;border-left: 1px solid gray;box-sizing: border-box;top: 0;bottom: 0;left: 50%;z-index: -1;}#sk-container-id-3 div.sk-parallel-item {display: flex;flex-direction: column;z-index: 1;position: relative;background-color: white;}#sk-container-id-3 div.sk-parallel-item:first-child::after {align-self: flex-end;width: 50%;}#sk-container-id-3 div.sk-parallel-item:last-child::after {align-self: flex-start;width: 50%;}#sk-container-id-3 div.sk-parallel-item:only-child::after {width: 0;}#sk-container-id-3 div.sk-dashed-wrapped {border: 1px dashed gray;margin: 0 0.4em 0.5em 0.4em;box-sizing: border-box;padding-bottom: 0.4em;background-color: white;}#sk-container-id-3 div.sk-label label {font-family: monospace;font-weight: bold;display: inline-block;line-height: 1.2em;}#sk-container-id-3 div.sk-label-container {text-align: center;}#sk-container-id-3 div.sk-container {/* jupyter's `normalize.less` sets `[hidden] { display: none; }` but bootstrap.min.css set `[hidden] { display: none !important; }` so we also need the `!important` here to be able to override the default hidden behavior on the sphinx rendered scikit-learn.org. See: https://github.com/scikit-learn/scikit-learn/issues/21755 */display: inline-block !important;position: relative;}#sk-container-id-3 div.sk-text-repr-fallback {display: none;}</style><div id=\"sk-container-id-3\" class=\"sk-top-container\"><div class=\"sk-text-repr-fallback\"><pre>DecisionTreeClassifier()</pre><b>In a Jupyter environment, please rerun this cell to show the HTML representation or trust the notebook. <br />On GitHub, the HTML representation is unable to render, please try loading this page with nbviewer.org.</b></div><div class=\"sk-container\" hidden><div class=\"sk-item\"><div class=\"sk-estimator sk-toggleable\"><input class=\"sk-toggleable__control sk-hidden--visually\" id=\"sk-estimator-id-3\" type=\"checkbox\" checked><label for=\"sk-estimator-id-3\" class=\"sk-toggleable__label sk-toggleable__label-arrow\">DecisionTreeClassifier</label><div class=\"sk-toggleable__content\"><pre>DecisionTreeClassifier()</pre></div></div></div></div></div>"
            ]
          },
          "metadata": {},
          "execution_count": 13
        }
      ]
    },
    {
      "cell_type": "code",
      "source": [
        "train_labels_predictions = cross_val_predict(model, test_set_vector, test_set['label'], cv=3)\n",
        "\n",
        "print('precision:\\t%.3f' % precision_score(test_set['label'], train_labels_predictions))\n",
        "print('recall:\\t\\t%.3f' % recall_score(test_set['label'], train_labels_predictions))\n",
        "print('f1:\\t\\t%.3f' % f1_score(test_set['label'], train_labels_predictions))"
      ],
      "metadata": {
        "colab": {
          "base_uri": "https://localhost:8080/"
        },
        "id": "HRksc6z_my5z",
        "outputId": "bd7a5d35-967f-491e-b336-0accce59f3fd"
      },
      "execution_count": 14,
      "outputs": [
        {
          "output_type": "stream",
          "name": "stdout",
          "text": [
            "precision:\t0.712\n",
            "recall:\t\t0.712\n",
            "f1:\t\t0.712\n"
          ]
        }
      ]
    },
    {
      "cell_type": "code",
      "source": [
        "cm = confusion_matrix(test_set['label'], train_labels_predictions)\n",
        "sns.heatmap(cm/np.sum(cm), annot=True, fmt='.2%', cmap='Blues');"
      ],
      "metadata": {
        "colab": {
          "base_uri": "https://localhost:8080/",
          "height": 483
        },
        "id": "Um7vshbsnAL4",
        "outputId": "7a985615-9345-43ae-8815-957fe789efa5"
      },
      "execution_count": 15,
      "outputs": [
        {
          "output_type": "display_data",
          "data": {
            "text/plain": [
              "<Figure size 1152x576 with 2 Axes>"
            ],
            "image/png": "[encoded data removed]"
          },
          "metadata": {
            "needs_background": "light"
          }
        }
      ]
    },
    {
      "cell_type": "markdown",
      "source": [
        "### Hyperparameter tuning of Logistic Regression model"
      ],
      "metadata": {
        "id": "YKrA7vxteJ2S"
      }
    },
    {
      "cell_type": "code",
      "source": [
        "model = LogisticRegression(max_iter=1000)\n",
        "\n",
        "solvers = ['newton-cg', 'lbfgs', 'liblinear']\n",
        "penalty = ['l2']\n",
        "c_values = [1.0, 0.5, 0.1, 0.01, 0.001]\n",
        "\n",
        "grid = dict(solver=solvers, penalty=penalty, C=c_values)\n",
        "logistic_regression_grid_search = GridSearchCV(estimator=model, param_grid=grid, cv=2, scoring='f1', verbose=3)\n",
        "logistic_regression_grid_search.fit(train_set_vector, train_set['label']);"
      ],
      "metadata": {
        "id": "lh4T7MEJeHcj",
        "colab": {
          "base_uri": "https://localhost:8080/"
        },
        "outputId": "88af57b9-1f03-4051-c9a3-348b45903cb0"
      },
      "execution_count": 16,
      "outputs": [
        {
          "output_type": "stream",
          "name": "stdout",
          "text": [
            "Fitting 2 folds for each of 15 candidates, totalling 30 fits\n",
            "[CV 1/2] END C=1.0, penalty=l2, solver=newton-cg;, score=0.877 total time=   8.4s\n",
            "[CV 2/2] END C=1.0, penalty=l2, solver=newton-cg;, score=0.872 total time=  10.3s\n",
            "[CV 1/2] END ...C=1.0, penalty=l2, solver=lbfgs;, score=0.877 total time=  14.7s\n",
            "[CV 2/2] END ...C=1.0, penalty=l2, solver=lbfgs;, score=0.872 total time=  11.4s\n",
            "[CV 1/2] END C=1.0, penalty=l2, solver=liblinear;, score=0.877 total time=   8.6s\n",
            "[CV 2/2] END C=1.0, penalty=l2, solver=liblinear;, score=0.872 total time=   4.4s\n",
            "[CV 1/2] END C=0.5, penalty=l2, solver=newton-cg;, score=0.880 total time=   9.0s\n",
            "[CV 2/2] END C=0.5, penalty=l2, solver=newton-cg;, score=0.875 total time=   7.5s\n",
            "[CV 1/2] END ...C=0.5, penalty=l2, solver=lbfgs;, score=0.880 total time=  11.0s\n",
            "[CV 2/2] END ...C=0.5, penalty=l2, solver=lbfgs;, score=0.875 total time=  10.3s\n",
            "[CV 1/2] END C=0.5, penalty=l2, solver=liblinear;, score=0.880 total time=   5.1s\n",
            "[CV 2/2] END C=0.5, penalty=l2, solver=liblinear;, score=0.875 total time=   5.9s\n",
            "[CV 1/2] END C=0.1, penalty=l2, solver=newton-cg;, score=0.885 total time=   5.4s\n",
            "[CV 2/2] END C=0.1, penalty=l2, solver=newton-cg;, score=0.882 total time=   6.4s\n",
            "[CV 1/2] END ...C=0.1, penalty=l2, solver=lbfgs;, score=0.885 total time=   7.1s\n",
            "[CV 2/2] END ...C=0.1, penalty=l2, solver=lbfgs;, score=0.882 total time=   5.5s\n",
            "[CV 1/2] END C=0.1, penalty=l2, solver=liblinear;, score=0.885 total time=   5.9s\n",
            "[CV 2/2] END C=0.1, penalty=l2, solver=liblinear;, score=0.882 total time=   3.9s\n",
            "[CV 1/2] END C=0.01, penalty=l2, solver=newton-cg;, score=0.880 total time=   3.5s\n",
            "[CV 2/2] END C=0.01, penalty=l2, solver=newton-cg;, score=0.876 total time=   3.3s\n",
            "[CV 1/2] END ..C=0.01, penalty=l2, solver=lbfgs;, score=0.880 total time=   4.0s\n",
            "[CV 2/2] END ..C=0.01, penalty=l2, solver=lbfgs;, score=0.876 total time=   5.0s\n",
            "[CV 1/2] END C=0.01, penalty=l2, solver=liblinear;, score=0.880 total time=   1.4s\n",
            "[CV 2/2] END C=0.01, penalty=l2, solver=liblinear;, score=0.876 total time=   1.2s\n",
            "[CV 1/2] END C=0.001, penalty=l2, solver=newton-cg;, score=0.852 total time=   2.2s\n",
            "[CV 2/2] END C=0.001, penalty=l2, solver=newton-cg;, score=0.844 total time=   2.2s\n",
            "[CV 1/2] END .C=0.001, penalty=l2, solver=lbfgs;, score=0.852 total time=   1.3s\n",
            "[CV 2/2] END .C=0.001, penalty=l2, solver=lbfgs;, score=0.844 total time=   1.6s\n",
            "[CV 1/2] END C=0.001, penalty=l2, solver=liblinear;, score=0.852 total time=   0.9s\n",
            "[CV 2/2] END C=0.001, penalty=l2, solver=liblinear;, score=0.845 total time=   1.4s\n"
          ]
        }
      ]
    },
    {
      "cell_type": "code",
      "source": [
        "print(logistic_regression_grid_search.best_params_)"
      ],
      "metadata": {
        "colab": {
          "base_uri": "https://localhost:8080/"
        },
        "id": "oiY7ITpPRDO5",
        "outputId": "b03ba686-4756-4c04-ad1a-464c142a270e"
      },
      "execution_count": 17,
      "outputs": [
        {
          "output_type": "stream",
          "name": "stdout",
          "text": [
            "{'C': 0.1, 'penalty': 'l2', 'solver': 'liblinear'}\n"
          ]
        }
      ]
    },
    {
      "cell_type": "code",
      "source": [
        "model = LogisticRegression(max_iter=1000, **logistic_regression_grid_search.best_params_)\n",
        "model.fit(train_set_vector, train_set['label']);\n",
        "\n",
        "train_labels_predictions = cross_val_predict(model, test_set_vector, test_set['label'], cv=3)\n",
        "\n",
        "precision = precision_score(test_set['label'], train_labels_predictions)\n",
        "recall = recall_score(test_set['label'], train_labels_predictions)\n",
        "f1 = f1_score(test_set['label'], train_labels_predictions)\n",
        "\n",
        "print('precision:\\t%.3f' % precision)\n",
        "print('recall:\\t\\t%.3f' % recall)\n",
        "print('f1:\\t\\t%.3f' % f1)"
      ],
      "metadata": {
        "colab": {
          "base_uri": "https://localhost:8080/"
        },
        "id": "yG5j5Ad8P5yL",
        "outputId": "e78b96ec-f0e8-404f-bdfa-5e350d405aab"
      },
      "execution_count": 18,
      "outputs": [
        {
          "output_type": "stream",
          "name": "stdout",
          "text": [
            "precision:\t0.853\n",
            "recall:\t\t0.874\n",
            "f1:\t\t0.864\n"
          ]
        }
      ]
    },
    {
      "cell_type": "code",
      "source": [
        "cm = confusion_matrix(test_set['label'], train_labels_predictions)\n",
        "sns.heatmap(cm/np.sum(cm), annot=True, fmt='.2%', cmap='Blues');"
      ],
      "metadata": {
        "id": "XJkDndzlzLDj",
        "colab": {
          "base_uri": "https://localhost:8080/",
          "height": 483
        },
        "outputId": "037c7778-45a3-48d0-a7db-ef9728ed71d8"
      },
      "execution_count": 19,
      "outputs": [
        {
          "output_type": "display_data",
          "data": {
            "text/plain": [
              "<Figure size 1152x576 with 2 Axes>"
            ],
            "image/png": "[encoded data removed]"
          },
          "metadata": {
            "needs_background": "light"
          }
        }
      ]
    },
    {
      "cell_type": "markdown",
      "metadata": {
        "id": "CmsnHqP9a6eQ"
      },
      "source": [
        "### Saving the best model on Google Drive\n"
      ]
    },
    {
      "cell_type": "code",
      "execution_count": 20,
      "metadata": {
        "id": "nD9ZlZzNfSey"
      },
      "outputs": [],
      "source": [
        "save_date = datetime.datetime.now().strftime(\"%Y%m%d\")\n",
        "model_name = 'logistic_regression'\n",
        "model_hash = uuid.uuid4().hex\n",
        "\n",
        "output = {\n",
        "    \"model_name\": model_name,\n",
        "    'model_hash': model_hash,\n",
        "    'labels': LABELS,\n",
        "    \"model\": model,\n",
        "    \"vectorizer\": vectorizer,\n",
        "    'metrics': {\n",
        "        'precision': precision,\n",
        "        'recal': recall,\n",
        "        'f1': f1,\n",
        "      }\n",
        "    }\n",
        "\n",
        "with open(MODELS_DIR / f'{model_name}_{save_date}', 'wb') as fp:\n",
        "  pickle.dump(output, fp)"
      ]
    },
    {
      "cell_type": "markdown",
      "source": [
        "### Saving the best model on Filebase"
      ],
      "metadata": {
        "id": "zB_nrrOKgLRz"
      }
    },
    {
      "cell_type": "code",
      "source": [
        "s3_client = boto3.client('s3', endpoint_url='https://s3.filebase.com', aws_access_key_id=os.getenv('filebase_access_key_id'), aws_secret_access_key=os.getenv('filebase_secret_access_key'))\n",
        "\n",
        "\n",
        "with open(MODELS_DIR / f'{model_name}_{save_date}', 'rb') as fp:\n",
        "  s3_client.upload_fileobj(fp, BUCKET_NAME, model_hash)"
      ],
      "metadata": {
        "id": "EHiHyQPFgKL4"
      },
      "execution_count": 23,
      "outputs": []
    },
    {
      "cell_type": "markdown",
      "source": [
        "### Final model description"
      ],
      "metadata": {
        "id": "dH3wqt9ZXot4"
      }
    },
    {
      "cell_type": "code",
      "source": [
        "print('General info')\n",
        "print(f'\\tModel name:\\t{model_name}')\n",
        "print(f'\\tModel hash:\\t{model_hash}')\n",
        "print(f'\\tDate:\\t\\t{datetime.datetime.now()}')\n",
        "print(\"Metrics\")\n",
        "print(f'\\tPrecision:\\t{precision}')\n",
        "print(f'\\tRecall:\\t\\t{recall}')\n",
        "print(f'\\tf1: \\t\\t{f1}')"
      ],
      "metadata": {
        "colab": {
          "base_uri": "https://localhost:8080/"
        },
        "id": "REO8K-97X2DO",
        "outputId": "d3381708-1cfa-44d8-8bb4-949a2c08e7ac"
      },
      "execution_count": 32,
      "outputs": [
        {
          "output_type": "stream",
          "name": "stdout",
          "text": [
            "General info\n",
            "\tModel name:\tlogistic_regression\n",
            "\tModel hash:\t4e1181527c9046d58f94b9de76565358\n",
            "\tDate:\t\t2023-03-02 22:23:19.839644\n",
            "Metrics\n",
            "\tPrecision:\t0.8530276308054086\n",
            "\tRecall:\t\t0.8744475693049417\n",
            "\tf1: \t\t0.8636048011110009\n"
          ]
        }
      ]
    },
    {
      "cell_type": "markdown",
      "metadata": {
        "id": "RkhoerZ-hdNc"
      },
      "source": [
        "### Test model on sample review"
      ]
    },
    {
      "cell_type": "code",
      "execution_count": null,
      "metadata": {
        "id": "_PVzZ3tRftUL"
      },
      "outputs": [],
      "source": [
        "example_review = \"Horrible, horrible, horrible I can't believe how miscast this movie is. What was Ed Norton thinking when he signed up for this? Okay, it's a remake. If you saw the first hulk, you don't need to see this one. Feel free to avoid this one. And feel happy that you did.\"\n",
        "\n",
        "text_string = vectorizer.transform([example_review])\n",
        "print(LABELS[model.predict(text_string)[0]])"
      ]
    }
  ]
}