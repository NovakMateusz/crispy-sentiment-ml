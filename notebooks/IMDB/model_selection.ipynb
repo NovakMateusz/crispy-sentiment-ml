{
  "nbformat": 4,
  "nbformat_minor": 0,
  "metadata": {
    "colab": {
      "provenance": [],
      "authorship_tag": "ABX9TyNjC0OwDClKcF0oIpZI7le1",
      "include_colab_link": true
    },
    "kernelspec": {
      "name": "python3",
      "display_name": "Python 3"
    },
    "language_info": {
      "name": "python"
    }
  },
  "cells": [
    {
      "cell_type": "markdown",
      "metadata": {
        "id": "view-in-github",
        "colab_type": "text"
      },
      "source": [
        "<a href=\"https://colab.research.google.com/github/NovakMateusz/crispy-sentiment-ml/blob/master/notebooks/IMDB/model_selection.ipynb\" target=\"_parent\"><img src=\"https://colab.research.google.com/assets/colab-badge.svg\" alt=\"Open In Colab\"/></a>"
      ]
    },
    {
      "cell_type": "markdown",
      "metadata": {
        "id": "EFuQeTHGbCfN"
      },
      "source": [
        "\n",
        "# Model selection"
      ]
    },
    {
      "cell_type": "code",
      "execution_count": null,
      "metadata": {
        "id": "QVn09bpfKYJN",
        "colab": {
          "base_uri": "https://localhost:8080/"
        },
        "outputId": "6e61503a-8a69-4058-db9d-f8bf239b2e3f"
      },
      "outputs": [
        {
          "output_type": "stream",
          "name": "stdout",
          "text": [
            "Looking in indexes: https://pypi.org/simple, https://us-python.pkg.dev/colab-wheels/public/simple/\n",
            "Requirement already satisfied: boto3 in /usr/local/lib/python3.8/dist-packages (1.26.81)\n",
            "Requirement already satisfied: s3transfer<0.7.0,>=0.6.0 in /usr/local/lib/python3.8/dist-packages (from boto3) (0.6.0)\n",
            "Requirement already satisfied: botocore<1.30.0,>=1.29.81 in /usr/local/lib/python3.8/dist-packages (from boto3) (1.29.81)\n",
            "Requirement already satisfied: jmespath<2.0.0,>=0.7.1 in /usr/local/lib/python3.8/dist-packages (from boto3) (1.0.1)\n",
            "Requirement already satisfied: urllib3<1.27,>=1.25.4 in /usr/local/lib/python3.8/dist-packages (from botocore<1.30.0,>=1.29.81->boto3) (1.26.14)\n",
            "Requirement already satisfied: python-dateutil<3.0.0,>=2.1 in /usr/local/lib/python3.8/dist-packages (from botocore<1.30.0,>=1.29.81->boto3) (2.8.2)\n",
            "Requirement already satisfied: six>=1.5 in /usr/local/lib/python3.8/dist-packages (from python-dateutil<3.0.0,>=2.1->botocore<1.30.0,>=1.29.81->boto3) (1.15.0)\n"
          ]
        }
      ],
      "source": [
        "!pip install boto3\n",
        "\n",
        "import datetime\n",
        "import pathlib\n",
        "import pickle\n",
        "import uuid\n",
        "import os\n",
        "\n",
        "import boto3\n",
        "from google.colab import drive\n",
        "import matplotlib.pyplot as plt\n",
        "import numpy as np\n",
        "import pandas as pd\n",
        "import seaborn as sns\n",
        "from sklearn.linear_model import LogisticRegression, SGDClassifier\n",
        "from sklearn.ensemble import RandomForestClassifier\n",
        "from sklearn.tree import DecisionTreeClassifier\n",
        "from sklearn.feature_extraction.text import CountVectorizer\n",
        "from sklearn.model_selection import train_test_split, cross_val_predict, GridSearchCV\n",
        "from sklearn.metrics import confusion_matrix, precision_score, recall_score, f1_score\n",
        "\n",
        "\n",
        "plt.rcParams[\"figure.figsize\"] = (16, 8)"
      ]
    },
    {
      "cell_type": "markdown",
      "metadata": {
        "id": "eLbZz_20cbA4"
      },
      "source": [
        "### Mounting Google Drive and setting up paths"
      ]
    },
    {
      "cell_type": "code",
      "execution_count": null,
      "metadata": {
        "colab": {
          "base_uri": "https://localhost:8080/"
        },
        "id": "Xd9o0uiSRaO6",
        "outputId": "7c88d536-8d95-4136-cd31-15f5c0343f75"
      },
      "outputs": [
        {
          "output_type": "stream",
          "name": "stdout",
          "text": [
            "Drive already mounted at /content/drive; to attempt to forcibly remount, call drive.mount(\"/content/drive\", force_remount=True).\n"
          ]
        }
      ],
      "source": [
        "drive.mount('/content/drive')\n",
        "\n",
        "COLAB_ROOT_DIR = pathlib.Path('.')\n",
        "DRIVE_ROOT_DIR = COLAB_ROOT_DIR / 'drive/MyDrive'\n",
        "PROJECT_ROOT_DIR = DRIVE_ROOT_DIR / 'bachelors_dissertation'\n",
        "\n",
        "DATA_DIR = PROJECT_ROOT_DIR / 'data' / 'clean' / 'IMDB'\n",
        "MODELS_DIR = PROJECT_ROOT_DIR / 'models'"
      ]
    },
    {
      "cell_type": "markdown",
      "metadata": {
        "id": "umTmhFffrEHj"
      },
      "source": [
        "### Constans"
      ]
    },
    {
      "cell_type": "code",
      "execution_count": null,
      "metadata": {
        "id": "wJquot6IrHOw"
      },
      "outputs": [],
      "source": [
        "LABELS = {\n",
        "    0: 'Nagative',\n",
        "    1: 'Positive'\n",
        "}\n",
        "\n",
        "BUCKET_NAME = 'sentiment-analysis'"
      ]
    },
    {
      "cell_type": "markdown",
      "source": [
        "### Load the dataset"
      ],
      "metadata": {
        "id": "i-Yr43b3Lgva"
      }
    },
    {
      "cell_type": "code",
      "source": [
        "dataframe = pd.read_csv(DATA_DIR / 'IMDB_50K_clean.csv')"
      ],
      "metadata": {
        "id": "IKLQBjcyLYZv"
      },
      "execution_count": null,
      "outputs": []
    },
    {
      "cell_type": "markdown",
      "source": [
        "### Split dataset to train and test sets"
      ],
      "metadata": {
        "id": "_ikGXRUnSwBQ"
      }
    },
    {
      "cell_type": "code",
      "execution_count": null,
      "metadata": {
        "colab": {
          "base_uri": "https://localhost:8080/"
        },
        "id": "T_EfROLCfMp_",
        "outputId": "99fed278-c724-42c1-cd1f-ccbc457a2558"
      },
      "outputs": [
        {
          "output_type": "stream",
          "name": "stdout",
          "text": [
            "CPU times: user 9.25 s, sys: 126 ms, total: 9.37 s\n",
            "Wall time: 9.44 s\n"
          ]
        }
      ],
      "source": [
        "%%time\n",
        "\n",
        "train_set, test_set = train_test_split(dataframe, test_size=0.2, random_state=42)\n",
        "\n",
        "vectorizer = CountVectorizer(stop_words='english')\n",
        "\n",
        "train_set_vector = vectorizer.fit_transform(train_set['text'])\n",
        "test_set_vector = vectorizer.transform(test_set['text'])"
      ]
    },
    {
      "cell_type": "markdown",
      "source": [
        "### SGD Classifier"
      ],
      "metadata": {
        "id": "S05irQxWbUyc"
      }
    },
    {
      "cell_type": "code",
      "execution_count": null,
      "metadata": {
        "colab": {
          "base_uri": "https://localhost:8080/"
        },
        "id": "5IvuDuQC1qU6",
        "outputId": "70b43ed8-092a-4ebc-bc8e-c10481c0608e"
      },
      "outputs": [
        {
          "output_type": "stream",
          "name": "stdout",
          "text": [
            "CPU times: user 1.11 s, sys: 96.1 ms, total: 1.21 s\n",
            "Wall time: 1.09 s\n"
          ]
        },
        {
          "output_type": "execute_result",
          "data": {
            "text/plain": [
              "SGDClassifier()"
            ]
          },
          "metadata": {},
          "execution_count": 7
        }
      ],
      "source": [
        "%%time\n",
        "sgd_model = SGDClassifier()\n",
        "sgd_model.fit(train_set_vector, train_set['label'])"
      ]
    },
    {
      "cell_type": "code",
      "source": [
        "train_labels_predictions = cross_val_predict(sgd_model, test_set_vector, test_set['label'], cv=3)\n",
        "\n",
        "print('precision:\\t%.3f' % precision_score(test_set['label'], train_labels_predictions))\n",
        "print('recall:\\t\\t%.3f' % recall_score(test_set['label'], train_labels_predictions))\n",
        "print('f1:\\t\\t%.3f' % f1_score(test_set['label'], train_labels_predictions))"
      ],
      "metadata": {
        "colab": {
          "base_uri": "https://localhost:8080/"
        },
        "id": "UvG-ZwMbezBU",
        "outputId": "03bdf0df-ce3b-4b22-aa57-57222dc4894a"
      },
      "execution_count": null,
      "outputs": [
        {
          "output_type": "stream",
          "name": "stdout",
          "text": [
            "precision:\t0.850\n",
            "recall:\t\t0.819\n",
            "f1:\t\t0.834\n"
          ]
        }
      ]
    },
    {
      "cell_type": "code",
      "source": [
        "cm = confusion_matrix(test_set['label'], train_labels_predictions)\n",
        "sns.heatmap(cm/np.sum(cm), annot=True, fmt='.2%', cmap='Blues');"
      ],
      "metadata": {
        "colab": {
          "base_uri": "https://localhost:8080/",
          "height": 483
        },
        "id": "atAvt1ZafNGW",
        "outputId": "f0cf33cc-de4d-4d41-fc5e-93be61c8b69e"
      },
      "execution_count": null,
      "outputs": [
        {
          "output_type": "display_data",
          "data": {
            "text/plain": [
              "<Figure size 1152x576 with 2 Axes>"
            ],
            "image/png": "[encoded data removed]"
          },
          "metadata": {
            "needs_background": "light"
          }
        }
      ]
    },
    {
      "cell_type": "markdown",
      "source": [
        "### Logistic Regression Classifier"
      ],
      "metadata": {
        "id": "eNuvITmBblwi"
      }
    },
    {
      "cell_type": "code",
      "execution_count": null,
      "metadata": {
        "colab": {
          "base_uri": "https://localhost:8080/"
        },
        "id": "exGvDc7EUGLf",
        "outputId": "f05ae92e-7cbd-4a09-dd17-a05446669632"
      },
      "outputs": [
        {
          "output_type": "stream",
          "name": "stdout",
          "text": [
            "CPU times: user 22.1 s, sys: 27.6 s, total: 49.7 s\n",
            "Wall time: 30.2 s\n"
          ]
        },
        {
          "output_type": "execute_result",
          "data": {
            "text/plain": [
              "LogisticRegression(max_iter=1000)"
            ]
          },
          "metadata": {},
          "execution_count": 10
        }
      ],
      "source": [
        "%%time\n",
        "\n",
        "lr_model = LogisticRegression(max_iter=1000)\n",
        "lr_model.fit(train_set_vector, train_set['label'])"
      ]
    },
    {
      "cell_type": "code",
      "source": [
        "train_labels_predictions = cross_val_predict(lr_model, test_set_vector, test_set['label'], cv=3)\n",
        "\n",
        "print('precision:\\t%.3f' % precision_score(test_set['label'], train_labels_predictions))\n",
        "print('recall:\\t\\t%.3f' % recall_score(test_set['label'], train_labels_predictions))\n",
        "print('f1:\\t\\t%.3f' % f1_score(test_set['label'], train_labels_predictions))"
      ],
      "metadata": {
        "colab": {
          "base_uri": "https://localhost:8080/"
        },
        "id": "V0wGZJMKjBvy",
        "outputId": "27627b04-08c2-455c-eed2-7374511fe36c"
      },
      "execution_count": null,
      "outputs": [
        {
          "output_type": "stream",
          "name": "stdout",
          "text": [
            "precision:\t0.848\n",
            "recall:\t\t0.867\n",
            "f1:\t\t0.858\n"
          ]
        }
      ]
    },
    {
      "cell_type": "code",
      "source": [
        "cm = confusion_matrix(test_set['label'], train_labels_predictions)\n",
        "sns.heatmap(cm/np.sum(cm), annot=True, fmt='.2%', cmap='Blues');"
      ],
      "metadata": {
        "colab": {
          "base_uri": "https://localhost:8080/",
          "height": 483
        },
        "id": "BZ3Fk1J9mqDU",
        "outputId": "18d7209e-94c7-4add-897c-08ab8da1f3e4"
      },
      "execution_count": null,
      "outputs": [
        {
          "output_type": "display_data",
          "data": {
            "text/plain": [
              "<Figure size 1152x576 with 2 Axes>"
            ],
            "image/png": "[encoded data removed]"
          },
          "metadata": {
            "needs_background": "light"
          }
        }
      ]
    },
    {
      "cell_type": "markdown",
      "source": [
        "### Decision Tree Classifier"
      ],
      "metadata": {
        "id": "22LnCBeQbrBz"
      }
    },
    {
      "cell_type": "code",
      "source": [
        "%%time\n",
        "\n",
        "model = DecisionTreeClassifier()\n",
        "model.fit(train_set_vector, train_set['label'])"
      ],
      "metadata": {
        "colab": {
          "base_uri": "https://localhost:8080/"
        },
        "id": "41TVV2WJba2R",
        "outputId": "69e5670c-3bc0-415b-ed68-8d934d4daff5"
      },
      "execution_count": null,
      "outputs": [
        {
          "output_type": "stream",
          "name": "stdout",
          "text": [
            "CPU times: user 1min 23s, sys: 28.6 ms, total: 1min 23s\n",
            "Wall time: 1min 23s\n"
          ]
        },
        {
          "output_type": "execute_result",
          "data": {
            "text/plain": [
              "DecisionTreeClassifier()"
            ]
          },
          "metadata": {},
          "execution_count": 13
        }
      ]
    },
    {
      "cell_type": "code",
      "source": [
        "train_labels_predictions = cross_val_predict(model, test_set_vector, test_set['label'], cv=3)\n",
        "\n",
        "print('precision:\\t%.3f' % precision_score(test_set['label'], train_labels_predictions))\n",
        "print('recall:\\t\\t%.3f' % recall_score(test_set['label'], train_labels_predictions))\n",
        "print('f1:\\t\\t%.3f' % f1_score(test_set['label'], train_labels_predictions))"
      ],
      "metadata": {
        "colab": {
          "base_uri": "https://localhost:8080/"
        },
        "id": "HRksc6z_my5z",
        "outputId": "4288a2a2-ab4d-453a-9e99-cbd77bea21e1"
      },
      "execution_count": null,
      "outputs": [
        {
          "output_type": "stream",
          "name": "stdout",
          "text": [
            "precision:\t0.707\n",
            "recall:\t\t0.704\n",
            "f1:\t\t0.705\n"
          ]
        }
      ]
    },
    {
      "cell_type": "code",
      "source": [
        "cm = confusion_matrix(test_set['label'], train_labels_predictions)\n",
        "sns.heatmap(cm/np.sum(cm), annot=True, fmt='.2%', cmap='Blues');"
      ],
      "metadata": {
        "colab": {
          "base_uri": "https://localhost:8080/",
          "height": 483
        },
        "id": "Um7vshbsnAL4",
        "outputId": "1eb696ee-3e36-4aff-88f5-b59781c778a6"
      },
      "execution_count": null,
      "outputs": [
        {
          "output_type": "display_data",
          "data": {
            "text/plain": [
              "<Figure size 1152x576 with 2 Axes>"
            ],
            "image/png": "[encoded data removed]"
          },
          "metadata": {
            "needs_background": "light"
          }
        }
      ]
    },
    {
      "cell_type": "markdown",
      "source": [
        "### Hyperparameter tuning of Logistic Regression model"
      ],
      "metadata": {
        "id": "YKrA7vxteJ2S"
      }
    },
    {
      "cell_type": "code",
      "source": [
        "model = LogisticRegression(max_iter=1000)\n",
        "\n",
        "solvers = ['newton-cg', 'lbfgs', 'liblinear']\n",
        "penalty = ['l2']\n",
        "c_values = [1.0, 0.5, 0.1, 0.01, 0.001]\n",
        "\n",
        "grid = dict(solver=solvers, penalty=penalty, C=c_values)\n",
        "logistic_regression_grid_search = GridSearchCV(estimator=model, param_grid=grid, cv=2, scoring='f1', verbose=3)\n",
        "logistic_regression_grid_search.fit(train_set_vector, train_set['label']);"
      ],
      "metadata": {
        "id": "lh4T7MEJeHcj",
        "colab": {
          "base_uri": "https://localhost:8080/"
        },
        "outputId": "4048d0a9-87b4-4b16-878f-7905e9ec4e56"
      },
      "execution_count": null,
      "outputs": [
        {
          "output_type": "stream",
          "name": "stdout",
          "text": [
            "Fitting 2 folds for each of 15 candidates, totalling 30 fits\n",
            "[CV 1/2] END C=1.0, penalty=l2, solver=newton-cg;, score=0.877 total time=  10.9s\n",
            "[CV 2/2] END C=1.0, penalty=l2, solver=newton-cg;, score=0.872 total time=   7.3s\n",
            "[CV 1/2] END ...C=1.0, penalty=l2, solver=lbfgs;, score=0.877 total time=  13.8s\n",
            "[CV 2/2] END ...C=1.0, penalty=l2, solver=lbfgs;, score=0.872 total time=  12.4s\n",
            "[CV 1/2] END C=1.0, penalty=l2, solver=liblinear;, score=0.877 total time=   4.8s\n",
            "[CV 2/2] END C=1.0, penalty=l2, solver=liblinear;, score=0.872 total time=   7.1s\n",
            "[CV 1/2] END C=0.5, penalty=l2, solver=newton-cg;, score=0.880 total time=   6.9s\n",
            "[CV 2/2] END C=0.5, penalty=l2, solver=newton-cg;, score=0.875 total time=   8.6s\n",
            "[CV 1/2] END ...C=0.5, penalty=l2, solver=lbfgs;, score=0.880 total time=   9.6s\n",
            "[CV 2/2] END ...C=0.5, penalty=l2, solver=lbfgs;, score=0.875 total time=  11.2s\n",
            "[CV 1/2] END C=0.5, penalty=l2, solver=liblinear;, score=0.880 total time=   4.4s\n",
            "[CV 2/2] END C=0.5, penalty=l2, solver=liblinear;, score=0.875 total time=   5.7s\n",
            "[CV 1/2] END C=0.1, penalty=l2, solver=newton-cg;, score=0.885 total time=   5.1s\n",
            "[CV 2/2] END C=0.1, penalty=l2, solver=newton-cg;, score=0.882 total time=   7.1s\n",
            "[CV 1/2] END ...C=0.1, penalty=l2, solver=lbfgs;, score=0.885 total time=   5.3s\n",
            "[CV 2/2] END ...C=0.1, penalty=l2, solver=lbfgs;, score=0.882 total time=   7.6s\n",
            "[CV 1/2] END C=0.1, penalty=l2, solver=liblinear;, score=0.885 total time=   3.5s\n",
            "[CV 2/2] END C=0.1, penalty=l2, solver=liblinear;, score=0.882 total time=   2.5s\n",
            "[CV 1/2] END C=0.01, penalty=l2, solver=newton-cg;, score=0.880 total time=   4.8s\n",
            "[CV 2/2] END C=0.01, penalty=l2, solver=newton-cg;, score=0.876 total time=   6.0s\n",
            "[CV 1/2] END ..C=0.01, penalty=l2, solver=lbfgs;, score=0.880 total time=   3.7s\n",
            "[CV 2/2] END ..C=0.01, penalty=l2, solver=lbfgs;, score=0.876 total time=   2.6s\n",
            "[CV 1/2] END C=0.01, penalty=l2, solver=liblinear;, score=0.880 total time=   1.2s\n",
            "[CV 2/2] END C=0.01, penalty=l2, solver=liblinear;, score=0.876 total time=   1.1s\n",
            "[CV 1/2] END C=0.001, penalty=l2, solver=newton-cg;, score=0.852 total time=   3.5s\n",
            "[CV 2/2] END C=0.001, penalty=l2, solver=newton-cg;, score=0.844 total time=   3.1s\n",
            "[CV 1/2] END .C=0.001, penalty=l2, solver=lbfgs;, score=0.852 total time=   1.4s\n",
            "[CV 2/2] END .C=0.001, penalty=l2, solver=lbfgs;, score=0.844 total time=   1.4s\n",
            "[CV 1/2] END C=0.001, penalty=l2, solver=liblinear;, score=0.852 total time=   0.9s\n",
            "[CV 2/2] END C=0.001, penalty=l2, solver=liblinear;, score=0.845 total time=   0.8s\n"
          ]
        }
      ]
    },
    {
      "cell_type": "code",
      "source": [
        "print(logistic_regression_grid_search.best_params_)"
      ],
      "metadata": {
        "colab": {
          "base_uri": "https://localhost:8080/"
        },
        "id": "oiY7ITpPRDO5",
        "outputId": "89b8d746-3661-47ed-860e-e0085d19bc2f"
      },
      "execution_count": null,
      "outputs": [
        {
          "output_type": "stream",
          "name": "stdout",
          "text": [
            "{'C': 0.1, 'penalty': 'l2', 'solver': 'liblinear'}\n"
          ]
        }
      ]
    },
    {
      "cell_type": "code",
      "source": [
        "model = LogisticRegression(max_iter=1000, **logistic_regression_grid_search.best_params_)\n",
        "model.fit(train_set_vector, train_set['label']);\n",
        "\n",
        "train_labels_predictions = cross_val_predict(model, test_set_vector, test_set['label'], cv=3)\n",
        "\n",
        "precision = precision_score(test_set['label'], train_labels_predictions)\n",
        "recall = recall_score(test_set['label'], train_labels_predictions)\n",
        "f1 = f1_score(test_set['label'], train_labels_predictions)\n",
        "\n",
        "print('precision:\\t%.3f' % precision)\n",
        "print('recall:\\t\\t%.3f' % recall)\n",
        "print('f1:\\t\\t%.3f' % f1)"
      ],
      "metadata": {
        "colab": {
          "base_uri": "https://localhost:8080/"
        },
        "id": "yG5j5Ad8P5yL",
        "outputId": "d2d1e389-a851-4568-dc48-3a9b743f7af5"
      },
      "execution_count": null,
      "outputs": [
        {
          "output_type": "stream",
          "name": "stdout",
          "text": [
            "precision:\t0.853\n",
            "recall:\t\t0.874\n",
            "f1:\t\t0.864\n"
          ]
        }
      ]
    },
    {
      "cell_type": "code",
      "source": [
        "cm = confusion_matrix(test_set['label'], train_labels_predictions)\n",
        "sns.heatmap(cm/np.sum(cm), annot=True, fmt='.2%', cmap='Blues');"
      ],
      "metadata": {
        "id": "XJkDndzlzLDj",
        "colab": {
          "base_uri": "https://localhost:8080/",
          "height": 483
        },
        "outputId": "2c5cefc8-4be0-45b2-f169-1aab09b9c284"
      },
      "execution_count": null,
      "outputs": [
        {
          "output_type": "display_data",
          "data": {
            "text/plain": [
              "<Figure size 1152x576 with 2 Axes>"
            ],
            "image/png": "[encoded data removed]"
          },
          "metadata": {
            "needs_background": "light"
          }
        }
      ]
    },
    {
      "cell_type": "markdown",
      "metadata": {
        "id": "CmsnHqP9a6eQ"
      },
      "source": [
        "### Saving the best model on Google Drive\n"
      ]
    },
    {
      "cell_type": "code",
      "execution_count": null,
      "metadata": {
        "id": "nD9ZlZzNfSey"
      },
      "outputs": [],
      "source": [
        "save_date = datetime.datetime.now().strftime(\"%Y%m%d\")\n",
        "model_name = 'logistic_regression'\n",
        "model_hex = uuid.uuid4().hex\n",
        "\n",
        "output = {\n",
        "    \"model_name\": model_name,\n",
        "    \"model\": model,\n",
        "    \"vectorizer\": vectorizer,\n",
        "    'model_hex': model_hex,\n",
        "    'metrics': {\n",
        "        'precision': precision,\n",
        "        'recal': recall,\n",
        "        'f1': f1,\n",
        "      }\n",
        "    }\n",
        "\n",
        "with open(MODELS_DIR / f'{model_name}_{save_date}', 'wb') as fp:\n",
        "  pickle.dump(output, fp)"
      ]
    },
    {
      "cell_type": "markdown",
      "source": [
        "### Saving the best model on Filebase"
      ],
      "metadata": {
        "id": "zB_nrrOKgLRz"
      }
    },
    {
      "cell_type": "code",
      "source": [
        "s3_client = boto3.client('s3', endpoint_url='https://s3.filebase.com', aws_access_key_id=os.getenv('filebase_access_key_id'), aws_secret_access_key=os.getenv('filebase_secret_access_key'))\n",
        "\n",
        "\n",
        "with open(MODELS_DIR / f'{model_name}_{save_date}', 'rb') as fp:\n",
        "  s3_client.upload_fileobj(fp, BUCKET_NAME, model_hex)"
      ],
      "metadata": {
        "id": "EHiHyQPFgKL4"
      },
      "execution_count": null,
      "outputs": []
    },
    {
      "cell_type": "markdown",
      "metadata": {
        "id": "RkhoerZ-hdNc"
      },
      "source": [
        "### Test model on sample review"
      ]
    },
    {
      "cell_type": "code",
      "execution_count": null,
      "metadata": {
        "colab": {
          "base_uri": "https://localhost:8080/"
        },
        "id": "_PVzZ3tRftUL",
        "outputId": "db58568e-d409-4a13-c616-bb2157a52a13"
      },
      "outputs": [
        {
          "output_type": "stream",
          "name": "stdout",
          "text": [
            "Nagative\n"
          ]
        }
      ],
      "source": [
        "example_review = \"Horrible, horrible, horrible I can't believe how miscast this movie is. What was Ed Norton thinking when he signed up for this? Okay, it's a remake. If you saw the first hulk, you don't need to see this one. Feel free to avoid this one. And feel happy that you did.\"\n",
        "\n",
        "text_string = vectorizer.transform([example_review])\n",
        "print(LABELS[model.predict(text_string)[0]])"
      ]
    }
  ]
}